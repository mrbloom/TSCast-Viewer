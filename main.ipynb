import pandas as pd
import matplotlib.pyplot as plt
from ipywidgets import interact, widgets, FileUpload
from IPython.display import display

import io

# Create a file upload widget
upload = FileUpload(accept='.csv', multiple=False)


def on_upload_change(change):
    if not upload.value:
        return
    uploaded_filename = next(iter(upload.value))
    content = upload.value[uploaded_filename]['content']
    df = pd.read_csv(io.StringIO(content.decode('utf-8')))

    # Convert the 'Stamp' column to datetime format
    df['Stamp'] = pd.to_datetime(df['Stamp'])

    # Function to plot selected metrics
    def plot_data(*metrics):
        if not metrics:  # If no metrics are selected, do nothing
            print("Please select at least one metric to plot.")
            return

        plt.figure(figsize=(15, 7))  # Set the figure size

        for metric in metrics:
            if metric in df.columns:
                plt.plot(df['Stamp'], df[metric], label=metric)
            else:
                print(f"Metric '{metric}' not found in the DataFrame.")

        plt.legend()
        plt.xlabel('Time')
        plt.ylabel('Value')
        plt.title('IPTV Channel Metrics Over Time')
        plt.xticks(rotation=45)
        plt.tight_layout()
        plt.show()

    # Interactive widget for selecting metrics to plot
    metrics = df.columns[2:]  # Exclude 'Stamp' and 'Time' columns
    interact(plot_data, metrics=widgets.SelectMultiple(options=metrics, description="Metrics"))


upload.observe(on_upload_change, names='value')

display(upload)
